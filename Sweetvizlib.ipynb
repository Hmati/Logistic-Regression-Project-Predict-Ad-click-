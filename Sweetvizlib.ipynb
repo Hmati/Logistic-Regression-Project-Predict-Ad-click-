{
 "cells": [
  {
   "cell_type": "code",
   "execution_count": 1,
   "id": "3ab75eca",
   "metadata": {},
   "outputs": [
    {
     "name": "stdout",
     "output_type": "stream",
     "text": [
      "Collecting sweetviz\n",
      "  Downloading sweetviz-2.1.4-py3-none-any.whl (15.1 MB)\n",
      "     -------------------------------------- 15.1/15.1 MB 785.9 kB/s eta 0:00:00\n",
      "Requirement already satisfied: pandas!=1.0.0,!=1.0.1,!=1.0.2,>=0.25.3 in c:\\users\\hellenmati\\anaconda3\\new\\lib\\site-packages (from sweetviz) (1.4.4)\n",
      "Requirement already satisfied: jinja2>=2.11.1 in c:\\users\\hellenmati\\anaconda3\\new\\lib\\site-packages (from sweetviz) (2.11.3)\n",
      "Requirement already satisfied: scipy>=1.3.2 in c:\\users\\hellenmati\\anaconda3\\new\\lib\\site-packages (from sweetviz) (1.9.1)\n",
      "Requirement already satisfied: tqdm>=4.43.0 in c:\\users\\hellenmati\\anaconda3\\new\\lib\\site-packages (from sweetviz) (4.64.1)\n",
      "Collecting importlib-resources>=1.2.0\n",
      "  Downloading importlib_resources-5.12.0-py3-none-any.whl (36 kB)\n",
      "Requirement already satisfied: numpy>=1.16.0 in c:\\users\\hellenmati\\anaconda3\\new\\lib\\site-packages (from sweetviz) (1.21.5)\n",
      "Requirement already satisfied: matplotlib>=3.1.3 in c:\\users\\hellenmati\\anaconda3\\new\\lib\\site-packages (from sweetviz) (3.5.2)\n",
      "Requirement already satisfied: zipp>=3.1.0 in c:\\users\\hellenmati\\anaconda3\\new\\lib\\site-packages (from importlib-resources>=1.2.0->sweetviz) (3.8.0)\n",
      "Requirement already satisfied: MarkupSafe>=0.23 in c:\\users\\hellenmati\\anaconda3\\new\\lib\\site-packages (from jinja2>=2.11.1->sweetviz) (2.0.1)\n",
      "Requirement already satisfied: kiwisolver>=1.0.1 in c:\\users\\hellenmati\\anaconda3\\new\\lib\\site-packages (from matplotlib>=3.1.3->sweetviz) (1.4.2)\n",
      "Requirement already satisfied: fonttools>=4.22.0 in c:\\users\\hellenmati\\anaconda3\\new\\lib\\site-packages (from matplotlib>=3.1.3->sweetviz) (4.25.0)\n",
      "Requirement already satisfied: pillow>=6.2.0 in c:\\users\\hellenmati\\anaconda3\\new\\lib\\site-packages (from matplotlib>=3.1.3->sweetviz) (9.2.0)\n",
      "Requirement already satisfied: packaging>=20.0 in c:\\users\\hellenmati\\anaconda3\\new\\lib\\site-packages (from matplotlib>=3.1.3->sweetviz) (21.3)\n",
      "Requirement already satisfied: pyparsing>=2.2.1 in c:\\users\\hellenmati\\anaconda3\\new\\lib\\site-packages (from matplotlib>=3.1.3->sweetviz) (3.0.9)\n",
      "Requirement already satisfied: python-dateutil>=2.7 in c:\\users\\hellenmati\\anaconda3\\new\\lib\\site-packages (from matplotlib>=3.1.3->sweetviz) (2.8.2)\n",
      "Requirement already satisfied: cycler>=0.10 in c:\\users\\hellenmati\\anaconda3\\new\\lib\\site-packages (from matplotlib>=3.1.3->sweetviz) (0.11.0)\n",
      "Requirement already satisfied: pytz>=2020.1 in c:\\users\\hellenmati\\anaconda3\\new\\lib\\site-packages (from pandas!=1.0.0,!=1.0.1,!=1.0.2,>=0.25.3->sweetviz) (2022.1)\n",
      "Requirement already satisfied: colorama in c:\\users\\hellenmati\\anaconda3\\new\\lib\\site-packages (from tqdm>=4.43.0->sweetviz) (0.4.5)\n",
      "Requirement already satisfied: six>=1.5 in c:\\users\\hellenmati\\anaconda3\\new\\lib\\site-packages (from python-dateutil>=2.7->matplotlib>=3.1.3->sweetviz) (1.16.0)\n",
      "Installing collected packages: importlib-resources, sweetviz\n",
      "Successfully installed importlib-resources-5.12.0 sweetviz-2.1.4\n",
      "Note: you may need to restart the kernel to use updated packages.\n"
     ]
    },
    {
     "name": "stderr",
     "output_type": "stream",
     "text": [
      "\n",
      "[notice] A new release of pip available: 22.3.1 -> 23.1.2\n",
      "[notice] To update, run: python.exe -m pip install --upgrade pip\n"
     ]
    }
   ],
   "source": [
    "pip install sweetviz\n"
   ]
  },
  {
   "cell_type": "code",
   "execution_count": 4,
   "id": "b4121811",
   "metadata": {},
   "outputs": [
    {
     "ename": "SyntaxError",
     "evalue": "invalid syntax (1137679003.py, line 1)",
     "output_type": "error",
     "traceback": [
      "\u001b[1;36m  File \u001b[1;32m\"C:\\Users\\HellenMati\\AppData\\Local\\Temp\\ipykernel_15532\\1137679003.py\"\u001b[1;36m, line \u001b[1;32m1\u001b[0m\n\u001b[1;33m    --upgrade pip\u001b[0m\n\u001b[1;37m              ^\u001b[0m\n\u001b[1;31mSyntaxError\u001b[0m\u001b[1;31m:\u001b[0m invalid syntax\n"
     ]
    }
   ],
   "source": [
    "--upgrade pip"
   ]
  },
  {
   "cell_type": "code",
   "execution_count": 7,
   "id": "0811e9fe",
   "metadata": {},
   "outputs": [],
   "source": [
    "import sweetviz as sw\n",
    "import pandas as pd"
   ]
  },
  {
   "cell_type": "code",
   "execution_count": 11,
   "id": "1f163245",
   "metadata": {},
   "outputs": [
    {
     "data": {
      "text/html": [
       "<div>\n",
       "<style scoped>\n",
       "    .dataframe tbody tr th:only-of-type {\n",
       "        vertical-align: middle;\n",
       "    }\n",
       "\n",
       "    .dataframe tbody tr th {\n",
       "        vertical-align: top;\n",
       "    }\n",
       "\n",
       "    .dataframe thead th {\n",
       "        text-align: right;\n",
       "    }\n",
       "</style>\n",
       "<table border=\"1\" class=\"dataframe\">\n",
       "  <thead>\n",
       "    <tr style=\"text-align: right;\">\n",
       "      <th></th>\n",
       "      <th>PassengerId</th>\n",
       "      <th>Survived</th>\n",
       "      <th>Pclass</th>\n",
       "      <th>Name</th>\n",
       "      <th>Sex</th>\n",
       "      <th>Age</th>\n",
       "      <th>SibSp</th>\n",
       "      <th>Parch</th>\n",
       "      <th>Ticket</th>\n",
       "      <th>Fare</th>\n",
       "      <th>Cabin</th>\n",
       "      <th>Embarked</th>\n",
       "    </tr>\n",
       "  </thead>\n",
       "  <tbody>\n",
       "    <tr>\n",
       "      <th>0</th>\n",
       "      <td>1</td>\n",
       "      <td>0</td>\n",
       "      <td>3</td>\n",
       "      <td>Braund, Mr. Owen Harris</td>\n",
       "      <td>male</td>\n",
       "      <td>22.0</td>\n",
       "      <td>1</td>\n",
       "      <td>0</td>\n",
       "      <td>A/5 21171</td>\n",
       "      <td>7.2500</td>\n",
       "      <td>NaN</td>\n",
       "      <td>S</td>\n",
       "    </tr>\n",
       "    <tr>\n",
       "      <th>1</th>\n",
       "      <td>2</td>\n",
       "      <td>1</td>\n",
       "      <td>1</td>\n",
       "      <td>Cumings, Mrs. John Bradley (Florence Briggs Th...</td>\n",
       "      <td>female</td>\n",
       "      <td>38.0</td>\n",
       "      <td>1</td>\n",
       "      <td>0</td>\n",
       "      <td>PC 17599</td>\n",
       "      <td>71.2833</td>\n",
       "      <td>C85</td>\n",
       "      <td>C</td>\n",
       "    </tr>\n",
       "    <tr>\n",
       "      <th>2</th>\n",
       "      <td>3</td>\n",
       "      <td>1</td>\n",
       "      <td>3</td>\n",
       "      <td>Heikkinen, Miss. Laina</td>\n",
       "      <td>female</td>\n",
       "      <td>26.0</td>\n",
       "      <td>0</td>\n",
       "      <td>0</td>\n",
       "      <td>STON/O2. 3101282</td>\n",
       "      <td>7.9250</td>\n",
       "      <td>NaN</td>\n",
       "      <td>S</td>\n",
       "    </tr>\n",
       "    <tr>\n",
       "      <th>3</th>\n",
       "      <td>4</td>\n",
       "      <td>1</td>\n",
       "      <td>1</td>\n",
       "      <td>Futrelle, Mrs. Jacques Heath (Lily May Peel)</td>\n",
       "      <td>female</td>\n",
       "      <td>35.0</td>\n",
       "      <td>1</td>\n",
       "      <td>0</td>\n",
       "      <td>113803</td>\n",
       "      <td>53.1000</td>\n",
       "      <td>C123</td>\n",
       "      <td>S</td>\n",
       "    </tr>\n",
       "    <tr>\n",
       "      <th>4</th>\n",
       "      <td>5</td>\n",
       "      <td>0</td>\n",
       "      <td>3</td>\n",
       "      <td>Allen, Mr. William Henry</td>\n",
       "      <td>male</td>\n",
       "      <td>35.0</td>\n",
       "      <td>0</td>\n",
       "      <td>0</td>\n",
       "      <td>373450</td>\n",
       "      <td>8.0500</td>\n",
       "      <td>NaN</td>\n",
       "      <td>S</td>\n",
       "    </tr>\n",
       "  </tbody>\n",
       "</table>\n",
       "</div>"
      ],
      "text/plain": [
       "   PassengerId  Survived  Pclass  \\\n",
       "0            1         0       3   \n",
       "1            2         1       1   \n",
       "2            3         1       3   \n",
       "3            4         1       1   \n",
       "4            5         0       3   \n",
       "\n",
       "                                                Name     Sex   Age  SibSp  \\\n",
       "0                            Braund, Mr. Owen Harris    male  22.0      1   \n",
       "1  Cumings, Mrs. John Bradley (Florence Briggs Th...  female  38.0      1   \n",
       "2                             Heikkinen, Miss. Laina  female  26.0      0   \n",
       "3       Futrelle, Mrs. Jacques Heath (Lily May Peel)  female  35.0      1   \n",
       "4                           Allen, Mr. William Henry    male  35.0      0   \n",
       "\n",
       "   Parch            Ticket     Fare Cabin Embarked  \n",
       "0      0         A/5 21171   7.2500   NaN        S  \n",
       "1      0          PC 17599  71.2833   C85        C  \n",
       "2      0  STON/O2. 3101282   7.9250   NaN        S  \n",
       "3      0            113803  53.1000  C123        S  \n",
       "4      0            373450   8.0500   NaN        S  "
      ]
     },
     "execution_count": 11,
     "metadata": {},
     "output_type": "execute_result"
    }
   ],
   "source": [
    "data = pd.read_csv (\"titanic.csv\")\n",
    "data.head()"
   ]
  },
  {
   "cell_type": "code",
   "execution_count": 13,
   "id": "f7faf097",
   "metadata": {},
   "outputs": [
    {
     "data": {
      "application/vnd.jupyter.widget-view+json": {
       "model_id": "66530becc347475a8c57de8c17f71cc6",
       "version_major": 2,
       "version_minor": 0
      },
      "text/plain": [
       "                                             |                                             | [  0%]   00:00 ->…"
      ]
     },
     "metadata": {},
     "output_type": "display_data"
    },
    {
     "name": "stdout",
     "output_type": "stream",
     "text": [
      "Report output.html was generated! NOTEBOOK/COLAB USERS: the web browser MAY not pop up, regardless, the report IS saved in your notebook/colab files.\n"
     ]
    }
   ],
   "source": [
    "analyzed  = sw.analyze(data)\n",
    "\n",
    "analyzed.show_html('output.html', open_browser = True)\n"
   ]
  },
  {
   "cell_type": "code",
   "execution_count": 14,
   "id": "76c56eb7",
   "metadata": {},
   "outputs": [],
   "source": [
    "#Split data into x and y vars\n",
    "\n",
    "x = data.drop('Survived' , axis = 1)\n",
    "y = data['Survived']"
   ]
  },
  {
   "cell_type": "code",
   "execution_count": null,
   "id": "1ddd0ff4",
   "metadata": {},
   "outputs": [],
   "source": [
    "from sklearn.model_selection import test_train_split\n",
    "\n",
    "X_train , Y_train ,x_train , y_train "
   ]
  },
  {
   "cell_type": "code",
   "execution_count": 17,
   "id": "c7bde1ec",
   "metadata": {},
   "outputs": [
    {
     "name": "stdout",
     "output_type": "stream",
     "text": [
      "Collecting dtaleNote: you may need to restart the kernel to use updated packages.\n"
     ]
    },
    {
     "name": "stderr",
     "output_type": "stream",
     "text": [
      "\n",
      "[notice] A new release of pip available: 22.3.1 -> 23.1.2\n",
      "[notice] To update, run: python.exe -m pip install --upgrade pip\n"
     ]
    },
    {
     "name": "stdout",
     "output_type": "stream",
     "text": [
      "\n",
      "  Downloading dtale-2.16.0-py2.py3-none-any.whl (14.0 MB)\n",
      "     ---------------------------------------- 14.0/14.0 MB 1.1 MB/s eta 0:00:00\n",
      "Requirement already satisfied: six in c:\\users\\hellenmati\\anaconda3\\new\\lib\\site-packages (from dtale) (1.16.0)\n",
      "Requirement already satisfied: itsdangerous in c:\\users\\hellenmati\\anaconda3\\new\\lib\\site-packages (from dtale) (2.0.1)\n",
      "Collecting missingno<=0.4.2\n",
      "  Downloading missingno-0.4.2-py3-none-any.whl (9.7 kB)\n",
      "Requirement already satisfied: scipy<=1.9.3 in c:\\users\\hellenmati\\anaconda3\\new\\lib\\site-packages (from dtale) (1.9.1)\n",
      "Requirement already satisfied: certifi in c:\\users\\hellenmati\\anaconda3\\new\\lib\\site-packages (from dtale) (2022.9.14)\n",
      "Requirement already satisfied: xarray in c:\\users\\hellenmati\\anaconda3\\new\\lib\\site-packages (from dtale) (0.20.1)\n",
      "Collecting Flask-Compress\n",
      "  Using cached Flask_Compress-1.13-py3-none-any.whl (7.9 kB)\n",
      "Requirement already satisfied: lz4 in c:\\users\\hellenmati\\anaconda3\\new\\lib\\site-packages (from dtale) (3.1.3)\n",
      "Collecting dash-colorscales\n",
      "  Downloading dash_colorscales-0.0.4.tar.gz (62 kB)\n",
      "     ---------------------------------------- 62.3/62.3 kB 3.5 MB/s eta 0:00:00\n",
      "  Preparing metadata (setup.py): started\n",
      "  Preparing metadata (setup.py): finished with status 'done'\n",
      "Requirement already satisfied: et-xmlfile in c:\\users\\hellenmati\\anaconda3\\new\\lib\\site-packages (from dtale) (1.1.0)\n",
      "Collecting kaleido\n",
      "  Downloading kaleido-0.2.1-py2.py3-none-win_amd64.whl (65.9 MB)\n",
      "     ---------------------------------------- 65.9/65.9 MB 2.8 MB/s eta 0:00:00\n",
      "Requirement already satisfied: seaborn in c:\\users\\hellenmati\\anaconda3\\new\\lib\\site-packages (from dtale) (0.11.2)\n",
      "Requirement already satisfied: networkx in c:\\users\\hellenmati\\anaconda3\\new\\lib\\site-packages (from dtale) (2.8.4)\n",
      "Requirement already satisfied: xlrd in c:\\users\\hellenmati\\anaconda3\\new\\lib\\site-packages (from dtale) (2.0.1)\n",
      "Requirement already satisfied: scikit-learn in c:\\users\\hellenmati\\anaconda3\\new\\lib\\site-packages (from dtale) (1.0.2)\n",
      "Requirement already satisfied: requests in c:\\users\\hellenmati\\anaconda3\\new\\lib\\site-packages (from dtale) (2.28.1)\n",
      "Collecting squarify\n",
      "  Downloading squarify-0.4.3-py3-none-any.whl (4.3 kB)\n",
      "Requirement already satisfied: future>=0.14.0 in c:\\users\\hellenmati\\anaconda3\\new\\lib\\site-packages (from dtale) (0.18.2)\n",
      "Collecting dash-daq\n",
      "  Downloading dash_daq-0.5.0.tar.gz (642 kB)\n",
      "     -------------------------------------- 642.7/642.7 kB 5.8 MB/s eta 0:00:00\n",
      "  Preparing metadata (setup.py): started\n",
      "  Preparing metadata (setup.py): finished with status 'done'\n",
      "Requirement already satisfied: plotly in c:\\users\\hellenmati\\anaconda3\\new\\lib\\site-packages (from dtale) (5.9.0)\n",
      "Collecting dash\n",
      "  Downloading dash-2.9.3-py3-none-any.whl (10.2 MB)\n",
      "     ---------------------------------------- 10.2/10.2 MB 6.4 MB/s eta 0:00:00\n",
      "Requirement already satisfied: pandas in c:\\users\\hellenmati\\anaconda3\\new\\lib\\site-packages (from dtale) (1.4.4)\n",
      "Requirement already satisfied: openpyxl!=3.2.0b1 in c:\\users\\hellenmati\\anaconda3\\new\\lib\\site-packages (from dtale) (3.0.10)\n",
      "Requirement already satisfied: numpy in c:\\users\\hellenmati\\anaconda3\\new\\lib\\site-packages (from dtale) (1.21.5)\n",
      "Requirement already satisfied: beautifulsoup4 in c:\\users\\hellenmati\\anaconda3\\new\\lib\\site-packages (from dtale) (4.11.1)\n",
      "Requirement already satisfied: matplotlib<=3.6.0 in c:\\users\\hellenmati\\anaconda3\\new\\lib\\site-packages (from dtale) (3.5.2)\n",
      "Collecting dash-bootstrap-components<=1.3.1\n",
      "  Downloading dash_bootstrap_components-1.3.1-py3-none-any.whl (219 kB)\n",
      "     -------------------------------------- 219.7/219.7 kB 6.8 MB/s eta 0:00:00\n",
      "Requirement already satisfied: cycler in c:\\users\\hellenmati\\anaconda3\\new\\lib\\site-packages (from dtale) (0.11.0)\n",
      "Collecting strsimpy\n",
      "  Downloading strsimpy-0.2.1-py3-none-any.whl (45 kB)\n",
      "     ---------------------------------------- 45.9/45.9 kB 2.2 MB/s eta 0:00:00\n",
      "Requirement already satisfied: statsmodels in c:\\users\\hellenmati\\anaconda3\\new\\lib\\site-packages (from dtale) (0.13.2)\n",
      "Collecting flask-ngrok\n",
      "  Downloading flask_ngrok-0.0.25-py3-none-any.whl (3.1 kB)\n",
      "Requirement already satisfied: Flask in c:\\users\\hellenmati\\anaconda3\\new\\lib\\site-packages (from dtale) (1.1.2)\n",
      "Collecting dash-table==5.0.0\n",
      "  Downloading dash_table-5.0.0-py3-none-any.whl (3.9 kB)\n",
      "Collecting dash-html-components==2.0.0\n",
      "  Downloading dash_html_components-2.0.0-py3-none-any.whl (4.1 kB)\n",
      "Collecting dash-core-components==2.0.0\n",
      "  Downloading dash_core_components-2.0.0-py3-none-any.whl (3.8 kB)\n",
      "Requirement already satisfied: click>=5.1 in c:\\users\\hellenmati\\anaconda3\\new\\lib\\site-packages (from Flask->dtale) (8.0.4)\n",
      "Requirement already satisfied: Jinja2>=2.10.1 in c:\\users\\hellenmati\\anaconda3\\new\\lib\\site-packages (from Flask->dtale) (2.11.3)\n",
      "Requirement already satisfied: Werkzeug>=0.15 in c:\\users\\hellenmati\\anaconda3\\new\\lib\\site-packages (from Flask->dtale) (2.0.3)\n",
      "Requirement already satisfied: packaging>=20.0 in c:\\users\\hellenmati\\anaconda3\\new\\lib\\site-packages (from matplotlib<=3.6.0->dtale) (21.3)\n",
      "Requirement already satisfied: python-dateutil>=2.7 in c:\\users\\hellenmati\\anaconda3\\new\\lib\\site-packages (from matplotlib<=3.6.0->dtale) (2.8.2)\n",
      "Requirement already satisfied: pillow>=6.2.0 in c:\\users\\hellenmati\\anaconda3\\new\\lib\\site-packages (from matplotlib<=3.6.0->dtale) (9.2.0)\n",
      "Requirement already satisfied: pyparsing>=2.2.1 in c:\\users\\hellenmati\\anaconda3\\new\\lib\\site-packages (from matplotlib<=3.6.0->dtale) (3.0.9)\n",
      "Requirement already satisfied: kiwisolver>=1.0.1 in c:\\users\\hellenmati\\anaconda3\\new\\lib\\site-packages (from matplotlib<=3.6.0->dtale) (1.4.2)\n",
      "Requirement already satisfied: fonttools>=4.22.0 in c:\\users\\hellenmati\\anaconda3\\new\\lib\\site-packages (from matplotlib<=3.6.0->dtale) (4.25.0)\n",
      "Requirement already satisfied: tenacity>=6.2.0 in c:\\users\\hellenmati\\anaconda3\\new\\lib\\site-packages (from plotly->dtale) (8.0.1)\n",
      "Requirement already satisfied: soupsieve>1.2 in c:\\users\\hellenmati\\anaconda3\\new\\lib\\site-packages (from beautifulsoup4->dtale) (2.3.1)\n",
      "Collecting brotli\n",
      "  Using cached Brotli-1.0.9-cp39-cp39-win_amd64.whl (383 kB)\n",
      "Requirement already satisfied: pytz>=2020.1 in c:\\users\\hellenmati\\anaconda3\\new\\lib\\site-packages (from pandas->dtale) (2022.1)\n",
      "Requirement already satisfied: idna<4,>=2.5 in c:\\users\\hellenmati\\anaconda3\\new\\lib\\site-packages (from requests->dtale) (3.3)\n",
      "Requirement already satisfied: urllib3<1.27,>=1.21.1 in c:\\users\\hellenmati\\anaconda3\\new\\lib\\site-packages (from requests->dtale) (1.26.11)\n",
      "Requirement already satisfied: charset-normalizer<3,>=2 in c:\\users\\hellenmati\\anaconda3\\new\\lib\\site-packages (from requests->dtale) (2.0.4)\n",
      "Requirement already satisfied: threadpoolctl>=2.0.0 in c:\\users\\hellenmati\\anaconda3\\new\\lib\\site-packages (from scikit-learn->dtale) (2.2.0)\n",
      "Requirement already satisfied: joblib>=0.11 in c:\\users\\hellenmati\\anaconda3\\new\\lib\\site-packages (from scikit-learn->dtale) (1.2.0)\n",
      "Requirement already satisfied: patsy>=0.5.2 in c:\\users\\hellenmati\\anaconda3\\new\\lib\\site-packages (from statsmodels->dtale) (0.5.2)\n",
      "Requirement already satisfied: colorama in c:\\users\\hellenmati\\anaconda3\\new\\lib\\site-packages (from click>=5.1->Flask->dtale) (0.4.5)\n",
      "Requirement already satisfied: MarkupSafe>=0.23 in c:\\users\\hellenmati\\anaconda3\\new\\lib\\site-packages (from Jinja2>=2.10.1->Flask->dtale) (2.0.1)\n",
      "Building wheels for collected packages: dash-colorscales, dash-daq\n",
      "  Building wheel for dash-colorscales (setup.py): started\n",
      "  Building wheel for dash-colorscales (setup.py): finished with status 'done'\n",
      "  Created wheel for dash-colorscales: filename=dash_colorscales-0.0.4-py3-none-any.whl size=62573 sha256=aa643aa8fe0741d307dd044dd6ff201c1db1669c4a86185d94d4045fb96b1f48\n",
      "  Stored in directory: c:\\users\\hellenmati\\appdata\\local\\pip\\cache\\wheels\\43\\5a\\7c\\1d37719e90029fe0e7573ba8fa40a66e70079af696545b1bf6\n",
      "  Building wheel for dash-daq (setup.py): started\n",
      "  Building wheel for dash-daq (setup.py): finished with status 'done'\n",
      "  Created wheel for dash-daq: filename=dash_daq-0.5.0-py3-none-any.whl size=669721 sha256=4f040315ccc5bc55cd97a3c9569dadd89b26322acb0907f26bbeba6e4148b975\n",
      "  Stored in directory: c:\\users\\hellenmati\\appdata\\local\\pip\\cache\\wheels\\ca\\4e\\93\\19b2f5fcb97c7eb4af2adff829e1e4384d156f2fda22751ad5\n",
      "Successfully built dash-colorscales dash-daq\n",
      "Installing collected packages: strsimpy, squarify, kaleido, dash-table, dash-html-components, dash-core-components, dash-colorscales, brotli, flask-ngrok, Flask-Compress, dash, missingno, dash-daq, dash-bootstrap-components, dtale\n",
      "Successfully installed Flask-Compress-1.13 brotli-1.0.9 dash-2.9.3 dash-bootstrap-components-1.3.1 dash-colorscales-0.0.4 dash-core-components-2.0.0 dash-daq-0.5.0 dash-html-components-2.0.0 dash-table-5.0.0 dtale-2.16.0 flask-ngrok-0.0.25 kaleido-0.2.1 missingno-0.4.2 squarify-0.4.3 strsimpy-0.2.1\n"
     ]
    }
   ],
   "source": [
    "pip install dtale \n"
   ]
  },
  {
   "cell_type": "code",
   "execution_count": 18,
   "id": "1645f287",
   "metadata": {},
   "outputs": [
    {
     "data": {
      "text/plain": []
     },
     "execution_count": 18,
     "metadata": {},
     "output_type": "execute_result"
    }
   ],
   "source": [
    "import dtale\n",
    "dtale.show(open_browser=True)"
   ]
  },
  {
   "cell_type": "code",
   "execution_count": null,
   "id": "3312c133",
   "metadata": {},
   "outputs": [],
   "source": []
  }
 ],
 "metadata": {
  "kernelspec": {
   "display_name": "Python 3 (ipykernel)",
   "language": "python",
   "name": "python3"
  },
  "language_info": {
   "codemirror_mode": {
    "name": "ipython",
    "version": 3
   },
   "file_extension": ".py",
   "mimetype": "text/x-python",
   "name": "python",
   "nbconvert_exporter": "python",
   "pygments_lexer": "ipython3",
   "version": "3.9.13"
  }
 },
 "nbformat": 4,
 "nbformat_minor": 5
}
